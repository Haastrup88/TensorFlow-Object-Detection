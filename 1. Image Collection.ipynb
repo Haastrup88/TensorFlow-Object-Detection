{
 "cells": [
  {
   "cell_type": "markdown",
   "metadata": {},
   "source": [
    "# 1. Import Dependencies"
   ]
  },
  {
   "cell_type": "code",
   "execution_count": 28,
   "metadata": {},
   "outputs": [
    {
     "name": "stdout",
     "output_type": "stream",
     "text": [
      "Requirement already satisfied: opencv-python in c:\\users\\hp\\anaconda3\\lib\\site-packages (4.7.0.68)\n",
      "Requirement already satisfied: numpy>=1.19.3 in c:\\users\\hp\\anaconda3\\lib\\site-packages (from opencv-python) (1.21.5)\n"
     ]
    }
   ],
   "source": [
    "!pip install opencv-python"
   ]
  },
  {
   "cell_type": "code",
   "execution_count": 29,
   "metadata": {},
   "outputs": [],
   "source": [
    "# Import opencv\n",
    "import cv2 \n",
    "\n",
    "# Import uuid\n",
    "import uuid\n",
    "\n",
    "# Import Operating System\n",
    "import os\n",
    "\n",
    "# Import time\n",
    "import time"
   ]
  },
  {
   "cell_type": "markdown",
   "metadata": {},
   "source": [
    "# 2. Define Images to Collect"
   ]
  },
  {
   "cell_type": "code",
   "execution_count": 30,
   "metadata": {},
   "outputs": [],
   "source": [
    "labels = ['thumbsup', 'thumbsdown', 'Unity', 'Happy']\n",
    "labels=[\"Happy\"]\n",
    "number_imgs = 5"
   ]
  },
  {
   "cell_type": "markdown",
   "metadata": {},
   "source": [
    "# 3. Setup Folders "
   ]
  },
  {
   "cell_type": "code",
   "execution_count": 31,
   "metadata": {},
   "outputs": [],
   "source": [
    "IMAGES_PATH = os.path.join('Tensorflow', 'workspace', 'images', 'collectedimages')"
   ]
  },
  {
   "cell_type": "code",
   "execution_count": 32,
   "metadata": {},
   "outputs": [],
   "source": [
    "if not os.path.exists(IMAGES_PATH):\n",
    "    if os.name == 'posix':\n",
    "        !mkdir -p {IMAGES_PATH}\n",
    "    if os.name == 'nt':\n",
    "         !mkdir {IMAGES_PATH}\n",
    "for label in labels:\n",
    "    path = os.path.join(IMAGES_PATH, label)\n",
    "    if not os.path.exists(path):\n",
    "        !mkdir {path}"
   ]
  },
  {
   "cell_type": "markdown",
   "metadata": {},
   "source": [
    "# 4. Capture Images"
   ]
  },
  {
   "cell_type": "code",
   "execution_count": 21,
   "metadata": {},
   "outputs": [
    {
     "name": "stdout",
     "output_type": "stream",
     "text": [
      "Collecting images for Happy\n",
      "Collecting image 0\n",
      "Collecting image 1\n",
      "Collecting image 2\n",
      "Collecting image 3\n",
      "Collecting image 4\n"
     ]
    }
   ],
   "source": [
    "for label in labels:\n",
    "    cap = cv2.VideoCapture(0)#Connect with Webcam\n",
    "    print('Collecting images for {}'.format(label))\n",
    "    time.sleep(10)\n",
    "    for imgnum in range(number_imgs):\n",
    "        print('Collecting image {}'.format(imgnum))\n",
    "        ret, frame = cap.read()\n",
    "        imgname = os.path.join(IMAGES_PATH,label,label+'.'+'{}.jpg'.format(str(uuid.uuid1())))\n",
    "        cv2.imwrite(imgname, frame)\n",
    "        cv2.imshow('frame', frame)\n",
    "        time.sleep(5)\n",
    "\n",
    "        if cv2.waitKey(1) & 0xFF == ord('q'):\n",
    "            break\n",
    "cap.release()\n",
    "cv2.destroyAllWindows()"
   ]
  },
  {
   "cell_type": "markdown",
   "metadata": {},
   "source": [
    "# 5. Image Labelling"
   ]
  },
  {
   "cell_type": "code",
   "execution_count": 33,
   "metadata": {},
   "outputs": [
    {
     "name": "stdout",
     "output_type": "stream",
     "text": [
      "Requirement already satisfied: pyqt5 in c:\\users\\hp\\anaconda3\\lib\\site-packages (5.15.7)\n",
      "Requirement already satisfied: lxml in c:\\users\\hp\\anaconda3\\lib\\site-packages (4.9.2)\n",
      "Requirement already satisfied: PyQt5-sip<13,>=12.11 in c:\\users\\hp\\anaconda3\\lib\\site-packages (from pyqt5) (12.11.0)\n",
      "Requirement already satisfied: PyQt5-Qt5>=5.15.0 in c:\\users\\hp\\anaconda3\\lib\\site-packages (from pyqt5) (5.15.2)\n"
     ]
    }
   ],
   "source": [
    "!pip install --upgrade pyqt5 lxml"
   ]
  },
  {
   "cell_type": "code",
   "execution_count": 34,
   "metadata": {},
   "outputs": [],
   "source": [
    "LABELIMG_PATH = os.path.join('Tensorflow', 'labelimg')"
   ]
  },
  {
   "cell_type": "code",
   "execution_count": 36,
   "metadata": {},
   "outputs": [],
   "source": [
    "if not os.path.exists(LABELIMG_PATH):\n",
    "    !mkdir {LABELIMG_PATH}\n",
    "    !git clone https://github.com/tzutalin/labelImg {LABELIMG_PATH}"
   ]
  },
  {
   "cell_type": "code",
   "execution_count": 38,
   "metadata": {},
   "outputs": [
    {
     "data": {
      "text/plain": [
       "'Tensorflow\\\\labelimg'"
      ]
     },
     "execution_count": 38,
     "metadata": {},
     "output_type": "execute_result"
    }
   ],
   "source": [
    "LABELIMG_PATH"
   ]
  },
  {
   "cell_type": "code",
   "execution_count": 39,
   "metadata": {},
   "outputs": [],
   "source": [
    "if os.name == 'posix':\n",
    "    !cd {LABELIMG_PATH} && make qt5py3\n",
    "if os.name =='nt':\n",
    "    !cd {LABELIMG_PATH} && pyrcc5 -o libs/resources.py resources.qrc"
   ]
  },
  {
   "cell_type": "code",
   "execution_count": 40,
   "metadata": {},
   "outputs": [
    {
     "name": "stdout",
     "output_type": "stream",
     "text": [
      "Image:C:\\Users\\hp\\Documents\\Tensorflow\\TFODCourse\\Tensorflow\\workspace\\images\\collectedimages\\Happy\\Happy.1ea124ac-940f-11ed-bd52-f48c50bc308f.jpg -> Annotation:C:/Users/hp/Documents/Tensorflow/TFODCourse/Tensorflow/workspace/images/collectedimages/Happy\\Happy.1ea124ac-940f-11ed-bd52-f48c50bc308f.xml\n",
      "Image:C:\\Users\\hp\\Documents\\Tensorflow\\TFODCourse\\Tensorflow\\workspace\\images\\collectedimages\\Happy\\Happy.1ea124ac-940f-11ed-bd52-f48c50bc308f.jpg -> Annotation:C:/Users/hp/Documents/Tensorflow/TFODCourse/Tensorflow/workspace/images/collectedimages/Happy\\Happy.1ea124ac-940f-11ed-bd52-f48c50bc308f.xml\n",
      "Image:C:\\Users\\hp\\Documents\\Tensorflow\\TFODCourse\\Tensorflow\\workspace\\images\\collectedimages\\Happy\\Happy.21a17a18-940f-11ed-a53b-f48c50bc308f.jpg -> Annotation:C:/Users/hp/Documents/Tensorflow/TFODCourse/Tensorflow/workspace/images/collectedimages/Happy\\Happy.21a17a18-940f-11ed-a53b-f48c50bc308f.xml\n",
      "Image:C:\\Users\\hp\\Documents\\Tensorflow\\TFODCourse\\Tensorflow\\workspace\\images\\collectedimages\\Happy\\Happy.24a119c6-940f-11ed-aa46-f48c50bc308f.jpg -> Annotation:C:/Users/hp/Documents/Tensorflow/TFODCourse/Tensorflow/workspace/images/collectedimages/Happy\\Happy.24a119c6-940f-11ed-aa46-f48c50bc308f.xml\n",
      "Cancel creation.\n",
      "Image:C:\\Users\\hp\\Documents\\Tensorflow\\TFODCourse\\Tensorflow\\workspace\\images\\collectedimages\\Happy\\Happy.27a02a82-940f-11ed-95fc-f48c50bc308f.jpg -> Annotation:C:/Users/hp/Documents/Tensorflow/TFODCourse/Tensorflow/workspace/images/collectedimages/Happy\\Happy.27a02a82-940f-11ed-95fc-f48c50bc308f.xml\n",
      "Image:C:\\Users\\hp\\Documents\\Tensorflow\\TFODCourse\\Tensorflow\\workspace\\images\\collectedimages\\thumbsdown\\thumbsdown.9e7d4ebe-940d-11ed-9021-f48c50bc308f.jpg -> Annotation:C:/Users/hp/Documents/Tensorflow/TFODCourse/Tensorflow/workspace/images/collectedimages/thumbsdown\\thumbsdown.9e7d4ebe-940d-11ed-9021-f48c50bc308f.xml\n",
      "Image:C:\\Users\\hp\\Documents\\Tensorflow\\TFODCourse\\Tensorflow\\workspace\\images\\collectedimages\\thumbsdown\\thumbsdown.a47f0dac-940d-11ed-a7d5-f48c50bc308f.jpg -> Annotation:C:/Users/hp/Documents/Tensorflow/TFODCourse/Tensorflow/workspace/images/collectedimages/thumbsdown\\thumbsdown.a47f0dac-940d-11ed-a7d5-f48c50bc308f.xml\n",
      "Image:C:\\Users\\hp\\Documents\\Tensorflow\\TFODCourse\\Tensorflow\\workspace\\images\\collectedimages\\thumbsdown\\thumbsdown.a77f3a06-940d-11ed-b6ca-f48c50bc308f.jpg -> Annotation:C:/Users/hp/Documents/Tensorflow/TFODCourse/Tensorflow/workspace/images/collectedimages/thumbsdown\\thumbsdown.a77f3a06-940d-11ed-b6ca-f48c50bc308f.xml\n",
      "Image:C:\\Users\\hp\\Documents\\Tensorflow\\TFODCourse\\Tensorflow\\workspace\\images\\collectedimages\\thumbsdown\\thumbsdown.a1804ad2-940d-11ed-bdc3-f48c50bc308f.jpg -> Annotation:C:/Users/hp/Documents/Tensorflow/TFODCourse/Tensorflow/workspace/images/collectedimages/thumbsdown\\thumbsdown.a1804ad2-940d-11ed-bdc3-f48c50bc308f.xml\n",
      "Image:C:\\Users\\hp\\Documents\\Tensorflow\\TFODCourse\\Tensorflow\\workspace\\images\\collectedimages\\thumbsdown\\thumbsdown.aa8128f8-940d-11ed-93d1-f48c50bc308f.jpg -> Annotation:C:/Users/hp/Documents/Tensorflow/TFODCourse/Tensorflow/workspace/images/collectedimages/thumbsdown\\thumbsdown.aa8128f8-940d-11ed-93d1-f48c50bc308f.xml\n",
      "Image:C:\\Users\\hp\\Documents\\Tensorflow\\TFODCourse\\Tensorflow\\workspace\\images\\collectedimages\\thumbsup\\thumbsup.8c8528ee-940d-11ed-9cef-f48c50bc308f.jpg -> Annotation:C:/Users/hp/Documents/Tensorflow/TFODCourse/Tensorflow/workspace/images/collectedimages/thumbsup\\thumbsup.8c8528ee-940d-11ed-9cef-f48c50bc308f.xml\n",
      "Image:C:\\Users\\hp\\Documents\\Tensorflow\\TFODCourse\\Tensorflow\\workspace\\images\\collectedimages\\thumbsup\\thumbsup.8f86fcba-940d-11ed-9da5-f48c50bc308f.jpg -> Annotation:C:/Users/hp/Documents/Tensorflow/TFODCourse/Tensorflow/workspace/images/collectedimages/thumbsup\\thumbsup.8f86fcba-940d-11ed-9da5-f48c50bc308f.xml\n",
      "Image:C:\\Users\\hp\\Documents\\Tensorflow\\TFODCourse\\Tensorflow\\workspace\\images\\collectedimages\\thumbsup\\thumbsup.92867a8c-940d-11ed-bce6-f48c50bc308f.jpg -> Annotation:C:/Users/hp/Documents/Tensorflow/TFODCourse/Tensorflow/workspace/images/collectedimages/thumbsup\\thumbsup.92867a8c-940d-11ed-bce6-f48c50bc308f.xml\n",
      "Image:C:\\Users\\hp\\Documents\\Tensorflow\\TFODCourse\\Tensorflow\\workspace\\images\\collectedimages\\thumbsup\\thumbsup.8981464c-940d-11ed-846f-f48c50bc308f.jpg -> Annotation:C:/Users/hp/Documents/Tensorflow/TFODCourse/Tensorflow/workspace/images/collectedimages/thumbsup\\thumbsup.8981464c-940d-11ed-846f-f48c50bc308f.xml\n",
      "Image:C:\\Users\\hp\\Documents\\Tensorflow\\TFODCourse\\Tensorflow\\workspace\\images\\collectedimages\\Unity\\Unity.b712abb6-940d-11ed-861e-f48c50bc308f.jpg -> Annotation:C:/Users/hp/Documents/Tensorflow/TFODCourse/Tensorflow/workspace/images/collectedimages/Unity\\Unity.b712abb6-940d-11ed-861e-f48c50bc308f.xml\n",
      "Image:C:\\Users\\hp\\Documents\\Tensorflow\\TFODCourse\\Tensorflow\\workspace\\images\\collectedimages\\Unity\\Unity.ba158c12-940d-11ed-b63d-f48c50bc308f.jpg -> Annotation:C:/Users/hp/Documents/Tensorflow/TFODCourse/Tensorflow/workspace/images/collectedimages/Unity\\Unity.ba158c12-940d-11ed-b63d-f48c50bc308f.xml\n",
      "Cancel creation.\n",
      "Image:C:\\Users\\hp\\Documents\\Tensorflow\\TFODCourse\\Tensorflow\\workspace\\images\\collectedimages\\Unity\\Unity.bd15a4be-940d-11ed-98f9-f48c50bc308f.jpg -> Annotation:C:/Users/hp/Documents/Tensorflow/TFODCourse/Tensorflow/workspace/images/collectedimages/Unity\\Unity.bd15a4be-940d-11ed-98f9-f48c50bc308f.xml\n",
      "Image:C:\\Users\\hp\\Documents\\Tensorflow\\TFODCourse\\Tensorflow\\workspace\\images\\collectedimages\\Unity\\Unity.c0189a4c-940d-11ed-aa38-f48c50bc308f.jpg -> Annotation:C:/Users/hp/Documents/Tensorflow/TFODCourse/Tensorflow/workspace/images/collectedimages/Unity\\Unity.c0189a4c-940d-11ed-aa38-f48c50bc308f.xml\n",
      "Image:C:\\Users\\hp\\Documents\\Tensorflow\\TFODCourse\\Tensorflow\\workspace\\images\\collectedimages\\Unity\\Unity.c317c742-940d-11ed-b468-f48c50bc308f.jpg -> Annotation:C:/Users/hp/Documents/Tensorflow/TFODCourse/Tensorflow/workspace/images/collectedimages/Unity\\Unity.c317c742-940d-11ed-b468-f48c50bc308f.xml\n"
     ]
    }
   ],
   "source": [
    "!cd {LABELIMG_PATH} && python labelImg.py"
   ]
  },
  {
   "cell_type": "markdown",
   "metadata": {},
   "source": [
    "# 6. Move them into a Training and Testing Partition"
   ]
  },
  {
   "cell_type": "markdown",
   "metadata": {},
   "source": [
    "# OPTIONAL - 7. Compress them for Colab Training"
   ]
  },
  {
   "cell_type": "code",
   "execution_count": 20,
   "metadata": {},
   "outputs": [],
   "source": [
    "TRAIN_PATH = os.path.join('Tensorflow', 'workspace', 'images', 'train')\n",
    "TEST_PATH = os.path.join('Tensorflow', 'workspace', 'images', 'test')\n",
    "ARCHIVE_PATH = os.path.join('Tensorflow', 'workspace', 'images', 'archive.tar.gz')"
   ]
  },
  {
   "cell_type": "code",
   "execution_count": 21,
   "metadata": {},
   "outputs": [],
   "source": [
    "!tar -czf {ARCHIVE_PATH} {TRAIN_PATH} {TEST_PATH}"
   ]
  },
  {
   "cell_type": "code",
   "execution_count": null,
   "metadata": {},
   "outputs": [],
   "source": []
  }
 ],
 "metadata": {
  "kernelspec": {
   "display_name": "tfod",
   "language": "python",
   "name": "tfod"
  },
  "language_info": {
   "codemirror_mode": {
    "name": "ipython",
    "version": 3
   },
   "file_extension": ".py",
   "mimetype": "text/x-python",
   "name": "python",
   "nbconvert_exporter": "python",
   "pygments_lexer": "ipython3",
   "version": "3.6.0"
  }
 },
 "nbformat": 4,
 "nbformat_minor": 2
}
